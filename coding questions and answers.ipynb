{
 "cells": [
  {
   "cell_type": "markdown",
   "metadata": {},
   "source": [
    "\n",
    "---\n",
    "\n",
    "### **Basic Questions (30 Questions)**\n",
    "1. Write a program to print \"Hello, World!\".\n",
    "2. Create a function to find the sum of two numbers.\n",
    "3. Write a Python program to check if a number is even or odd.\n",
    "4. Write a program to reverse a string.\n",
    "5. Create a function to calculate the factorial of a number.\n",
    "6. Write a Python program to find the largest of three numbers.\n",
    "7. Write a program to print the multiplication table of a given number.\n",
    "8. Write a Python script to find the square of a number.\n",
    "9. Write a Python program to check if a year is a leap year.\n",
    "10. Write a program to convert temperature from Celsius to Fahrenheit.\n",
    "11. Write a Python program to count the number of vowels in a string.\n",
    "12. Write a function to check if a string is a palindrome.\n",
    "13. Write a Python program to find the sum of digits of a number.\n",
    "14. Create a list and print the third element.\n",
    "15. Write a Python program to sort a list of numbers in ascending order.\n",
    "16. Write a Python program to find the largest number in a list.\n",
    "17. Write a program to generate the Fibonacci sequence up to `n` terms.\n",
    "18. Create a program to calculate the area of a rectangle.\n",
    "19. Write a Python program to find the smallest number in a list.\n",
    "20. Write a program to count the frequency of each character in a string.\n",
    "21. Write a Python script to merge two dictionaries.\n",
    "22. Write a Python program to print all prime numbers in a given range.\n",
    "23. Write a program to check if a number is prime or not.\n",
    "24. Write a Python program to find the GCD of two numbers.\n",
    "25. Write a program to find the LCM of two numbers.\n",
    "26. Create a Python script to replace all occurrences of a substring in a string.\n",
    "27. Write a Python program to check if a given string is a valid email address.\n",
    "28. Write a Python program to swap two numbers without using a temporary variable.\n",
    "29. Write a function to calculate the length of a string.\n",
    "30. Write a Python program to find the maximum and minimum in a list.\n",
    "\n",
    "---\n",
    "\n",
    "### **Intermediate Questions (40 Questions)**\n",
    "31. Write a Python program to remove duplicates from a list.\n",
    "32. Create a Python script to reverse a list without using built-in functions.\n",
    "33. Write a program to count the occurrences of a word in a string.\n",
    "34. Write a Python program to find the second largest number in a list.\n",
    "35. Create a Python script to check if a string contains only numbers.\n",
    "36. Write a Python program to find the intersection of two lists.\n",
    "37. Create a Python program to flatten a nested list.\n",
    "38. Write a program to check if a string is a valid palindrome, ignoring spaces and case.\n",
    "39. Write a Python program to generate all permutations of a string.\n",
    "40. Create a Python program to find the union of two sets.\n",
    "41. Write a Python script to find all the unique elements in a list.\n",
    "42. Write a Python program to check if a given list is sorted.\n",
    "43. Write a Python function to find the sum of elements in a list recursively.\n",
    "44. Create a Python script to calculate the frequency of words in a file.\n",
    "45. Write a program to find the transpose of a matrix.\n",
    "46. Create a Python program to implement bubble sort.\n",
    "47. Write a Python program to implement binary search.\n",
    "48. Create a Python script to check if two strings are anagrams.\n",
    "49. Write a Python program to implement a stack using a list.\n",
    "50. Write a Python program to implement a queue using a list.\n",
    "51. Create a Python program to merge two sorted lists.\n",
    "52. Write a Python program to remove all occurrences of a specific element in a list.\n",
    "53. Write a Python script to calculate the sum of all even numbers in a list.\n",
    "54. Create a Python program to generate a random password.\n",
    "55. Write a program to check if a string starts with a specific substring.\n",
    "56. Write a Python program to calculate the dot product of two vectors.\n",
    "57. Create a Python program to find the first non-repeated character in a string.\n",
    "58. Write a Python script to convert a list of tuples into a dictionary.\n",
    "59. Write a Python program to find the longest common prefix of a list of strings.\n",
    "60. Write a program to calculate the factorial of a number using recursion.\n",
    "61. Create a Python script to check if a number is a perfect square.\n",
    "62. Write a Python program to implement insertion sort.\n",
    "63. Write a Python program to remove leading and trailing whitespaces from a string.\n",
    "64. Create a program to find all subsets of a set.\n",
    "65. Write a Python program to check if a number is a perfect number.\n",
    "66. Write a Python script to convert a decimal number to binary.\n",
    "67. Write a program to check if two lists are identical.\n",
    "68. Create a Python program to implement Caesar cipher encryption.\n",
    "69. Write a Python script to calculate the number of days between two dates.\n",
    "70. Write a program to find the longest word in a string.\n",
    "\n",
    "---\n",
    "\n",
    "### **Advanced Questions (30 Questions)**\n",
    "71. Write a Python program to implement merge sort.\n",
    "72. Create a Python program to find the median of a list.\n",
    "73. Write a Python program to solve the Tower of Hanoi problem.\n",
    "74. Create a Python program to implement a binary tree and its traversals (inorder, preorder, postorder).\n",
    "75. Write a Python program to implement quicksort.\n",
    "76. Create a Python script to calculate the determinant of a matrix.\n",
    "77. Write a Python program to implement a priority queue.\n",
    "78. Create a program to solve the N-Queens problem.\n",
    "79. Write a Python program to find the shortest path in a graph using Dijkstra's algorithm.\n",
    "80. Create a Python program to check if a graph is bipartite.\n",
    "81. Write a Python program to calculate the sum of all nodes in a binary tree.\n",
    "82. Create a Python script to generate a histogram from a dataset.\n",
    "83. Write a Python program to find the connected components in a graph.\n",
    "84. Create a program to implement the Knapsack problem using dynamic programming.\n",
    "85. Write a Python program to check if a string matches a given regular expression.\n",
    "86. Write a Python program to implement the Rabin-Karp string matching algorithm.\n",
    "87. Create a Python program to solve the Sudoku puzzle.\n",
    "88. Write a Python script to evaluate a mathematical expression given as a string.\n",
    "89. Create a program to implement the Floyd-Warshall algorithm for all-pairs shortest paths.\n",
    "90. Write a Python program to solve a system of linear equations.\n",
    "91. Create a Python program to implement a hash map.\n",
    "92. Write a Python program to find the convex hull of a set of points.\n",
    "93. Create a program to generate all possible combinations of k elements from a list.\n",
    "94. Write a Python program to implement the A* search algorithm.\n",
    "95. Create a Python script to solve the Traveling Salesman Problem (TSP).\n",
    "96. Write a Python program to implement an LRU cache.\n",
    "97. Create a Python program to simulate a producer-consumer problem.\n",
    "98. Write a Python program to implement a trie (prefix tree).\n",
    "99. Create a Python script to implement a graph coloring algorithm.\n",
    "100. Write a Python program to create a chatbot using NLP libraries."
   ]
  },
  {
   "cell_type": "code",
   "execution_count": 1,
   "metadata": {},
   "outputs": [
    {
     "name": "stdout",
     "output_type": "stream",
     "text": [
      "Hello, World!\n"
     ]
    }
   ],
   "source": [
    "#Write a program to print \"Hello, World!\".\n",
    "print(\"Hello, World!\")"
   ]
  },
  {
   "cell_type": "code",
   "execution_count": 3,
   "metadata": {},
   "outputs": [
    {
     "name": "stdout",
     "output_type": "stream",
     "text": [
      "5.0\n"
     ]
    }
   ],
   "source": [
    "#Create a function to find the sum of two numbers.\n",
    "\n",
    "def sum(x,y):\n",
    "    result = x + y\n",
    "    return result\n",
    "\n",
    "\n",
    "num1 = float(input(\"enter first Number- \"))\n",
    "num2 = float(input(\"Enter second Number- \"))\n",
    "print(sum(num1,num2))"
   ]
  },
  {
   "cell_type": "code",
   "execution_count": 5,
   "metadata": {},
   "outputs": [
    {
     "name": "stdout",
     "output_type": "stream",
     "text": [
      "Odd\n"
     ]
    }
   ],
   "source": [
    "#Write a Python program to check if a number is even or odd.\n",
    "\n",
    "n = int(input(\"Enetr Number- \"))\n",
    "\n",
    "if n % 2 == 0:\n",
    "    print(\"Even\")\n",
    "else:\n",
    "    print(\"Odd\")"
   ]
  },
  {
   "cell_type": "code",
   "execution_count": 12,
   "metadata": {},
   "outputs": [
    {
     "name": "stdout",
     "output_type": "stream",
     "text": [
      "elgoog \n",
      "elgoog\n"
     ]
    }
   ],
   "source": [
    "#Write a program to reverse a string.\n",
    "string = input(\"Enter a word- \")\n",
    "reverse = \" \"\n",
    "for s in string:\n",
    "    reverse = s + reverse\n",
    "\n",
    "print(reverse)\n",
    "\n",
    "#2nd method \n",
    "reverse = string[::-1]\n",
    "print(reverse)\n"
   ]
  },
  {
   "cell_type": "code",
   "execution_count": 15,
   "metadata": {},
   "outputs": [
    {
     "name": "stdout",
     "output_type": "stream",
     "text": [
      "Enter a positive number\n",
      "None\n"
     ]
    }
   ],
   "source": [
    "#Create a function to calculate the factorial of a number.\n",
    "\n",
    "def factorial(n):\n",
    "    \n",
    "    if n < 0:\n",
    "        return print(\"Enter a positive number\")\n",
    "    elif n == 0 or n == 1:\n",
    "        return 1\n",
    "    else:\n",
    "        return n * factorial(n - 1)\n",
    "    \n",
    "\n",
    "\n",
    "print(factorial(-1))\n"
   ]
  },
  {
   "cell_type": "code",
   "execution_count": 26,
   "metadata": {},
   "outputs": [
    {
     "name": "stdout",
     "output_type": "stream",
     "text": [
      "94\n"
     ]
    }
   ],
   "source": [
    "# Write a Python program to find the largest of three numbers. \n",
    "\n",
    "numlist = [5, 94, 3]\n",
    "\n",
    "largest = numlist[0]  \n",
    "\n",
    "for num in numlist:\n",
    "    if num > largest: \n",
    "        largest = num\n",
    "\n",
    "print(largest)\n",
    "    "
   ]
  },
  {
   "cell_type": "code",
   "execution_count": 28,
   "metadata": {},
   "outputs": [
    {
     "name": "stdout",
     "output_type": "stream",
     "text": [
      "5 x 1 = 5 \n",
      "5 x 2 = 10 \n",
      "5 x 3 = 15 \n",
      "5 x 4 = 20 \n",
      "5 x 5 = 25 \n",
      "5 x 6 = 30 \n",
      "5 x 7 = 35 \n",
      "5 x 8 = 40 \n",
      "5 x 9 = 45 \n",
      "5 x 10 = 50 \n"
     ]
    }
   ],
   "source": [
    "#Write a program to print the multiplication table of a given number\n",
    "\n",
    "num = int(input(\"Enter number \"))\n",
    "\n",
    "for i in range(1,11):\n",
    "    product = num * i\n",
    "    print(f\"{num} x {i} = {product} \")"
   ]
  },
  {
   "cell_type": "code",
   "execution_count": 32,
   "metadata": {},
   "outputs": [
    {
     "name": "stdout",
     "output_type": "stream",
     "text": [
      "25\n"
     ]
    }
   ],
   "source": [
    "# Write a Python script to find the square of a number.\n",
    "\n",
    "num = int(input(\"Enter number \"))\n",
    "\n",
    "sq = print(num**2)\n"
   ]
  },
  {
   "cell_type": "code",
   "execution_count": 33,
   "metadata": {},
   "outputs": [
    {
     "name": "stdout",
     "output_type": "stream",
     "text": [
      "Leap year\n"
     ]
    }
   ],
   "source": [
    "#Write a Python program to check if a year is a leap year.\n",
    "\n",
    "year = int(input(\"Enter year- \"))\n",
    "\n",
    "if (year % 4 == 0 and year % 100 != 0) or (year % 400 == 0):\n",
    "    print(\"Leap year\")\n",
    "else:\n",
    "    print(\"Not a leap year\")"
   ]
  },
  {
   "cell_type": "code",
   "execution_count": 36,
   "metadata": {},
   "outputs": [
    {
     "name": "stdout",
     "output_type": "stream",
     "text": [
      "33.8\n"
     ]
    }
   ],
   "source": [
    "#Write a program to convert temperature from Celsius to Fahrenheit.\n",
    "\n",
    "temp = int(input(\"Enter temp in Celcius- \"))\n",
    "\n",
    "temp_in_fah = (temp * 9/5) + 32 \n",
    "print(temp_in_fah)"
   ]
  },
  {
   "cell_type": "code",
   "execution_count": 42,
   "metadata": {},
   "outputs": [
    {
     "name": "stdout",
     "output_type": "stream",
     "text": [
      "google\n",
      "3\n"
     ]
    }
   ],
   "source": [
    "#Write a Python program to count the number of vowels in a string.\n",
    "\n",
    "word = input(\"Enter Word - \").lower()\n",
    "print(word)\n",
    "count = 0\n",
    "\n",
    "vowels = [\"a\",'e','i','o','u']\n",
    "\n",
    "for i in word:\n",
    "    \n",
    "    if i in vowels:\n",
    "        count +=1\n",
    "    \n",
    "print(count)\n"
   ]
  },
  {
   "cell_type": "code",
   "execution_count": 3,
   "metadata": {},
   "outputs": [
    {
     "name": "stdout",
     "output_type": "stream",
     "text": [
      "True\n"
     ]
    }
   ],
   "source": [
    "#Write a function to check if a string is a palindrome.\n",
    "def is_palindrome(x):\n",
    "    polindrome = False\n",
    "\n",
    "    y = x[::-1]\n",
    "\n",
    "    if x == y:\n",
    "        polindrome = True\n",
    "\n",
    "    return polindrome\n",
    "\n",
    "word = input(\"Enter your word- \").lower()\n",
    "print(is_palindrome(word))\n"
   ]
  },
  {
   "cell_type": "code",
   "execution_count": 5,
   "metadata": {},
   "outputs": [
    {
     "name": "stdout",
     "output_type": "stream",
     "text": [
      "3\n"
     ]
    }
   ],
   "source": [
    "#13. Write a Python program to find the sum of digits of a number.\n",
    "\n",
    "num =input(\"Enter your Number- \")\n",
    "sum = 0\n",
    "\n",
    "for n in num:\n",
    "    sum = int(n) + sum\n",
    "\n",
    "print(sum)"
   ]
  },
  {
   "cell_type": "code",
   "execution_count": null,
   "metadata": {},
   "outputs": [],
   "source": [
    "3"
   ]
  },
  {
   "cell_type": "code",
   "execution_count": 6,
   "metadata": {},
   "outputs": [
    {
     "name": "stdout",
     "output_type": "stream",
     "text": [
      "3\n"
     ]
    }
   ],
   "source": [
    "#14. Create a list and print the third element.\n",
    "\n",
    "list= [1,2,3,4,5,6]\n",
    "\n",
    "print(list[2])"
   ]
  },
  {
   "cell_type": "code",
   "execution_count": 13,
   "metadata": {},
   "outputs": [
    {
     "name": "stdout",
     "output_type": "stream",
     "text": [
      "[2, 5, 10, 11, 56, 323]\n",
      "[323, 56, 11, 10, 5, 2]\n"
     ]
    }
   ],
   "source": [
    "# 15. Write a Python program to sort a list of numbers in ascending order.\n",
    "list= [11,2,323,10,5,56]\n",
    "list.sort()\n",
    "\n",
    "print(list)\n",
    "\n",
    "\n",
    "#decending\n",
    "\n",
    "list.sort(reverse=True)\n",
    "print(list)"
   ]
  },
  {
   "cell_type": "code",
   "execution_count": 16,
   "metadata": {},
   "outputs": [
    {
     "name": "stdout",
     "output_type": "stream",
     "text": [
      "323\n"
     ]
    }
   ],
   "source": [
    "# 16. Write a Python program to find the largest number in a list.\n",
    "list= [11,2,323,10,5,56]\n",
    "\n",
    "largest = list[0]\n",
    "\n",
    "for i in list:\n",
    "    if largest < i:\n",
    "        largest = i\n",
    "\n",
    "print(largest)\n"
   ]
  },
  {
   "cell_type": "code",
   "execution_count": 19,
   "metadata": {},
   "outputs": [
    {
     "name": "stdout",
     "output_type": "stream",
     "text": [
      "Fibonacci sequence:\n",
      "0 1 1 2 3 5 "
     ]
    }
   ],
   "source": [
    "# 17. Write a program to generate the Fibonacci sequence up to `n` terms.\n",
    "\n",
    "n = int(input(\"Enter the number of terms: \"))\n",
    "\n",
    "# Initialize the first two terms\n",
    "a, b = 0, 1\n",
    "\n",
    "if n <= 0:\n",
    "    print(\"Please enter a positive integer.\")\n",
    "elif n == 1:\n",
    "    print(f\"Fibonacci sequence: {a}\")\n",
    "else:\n",
    "    print(\"Fibonacci sequence:\")\n",
    "    print(a, b, end=\" \")  # Print the first two terms\n",
    "\n",
    "    for i in range(2, n):  # Start from the third term\n",
    "        c = a + b\n",
    "        print(c, end=\" \")\n",
    "        a, b = b, c"
   ]
  },
  {
   "cell_type": "code",
   "execution_count": 21,
   "metadata": {},
   "outputs": [
    {
     "name": "stdout",
     "output_type": "stream",
     "text": [
      "(25.0cm^2)\n"
     ]
    }
   ],
   "source": [
    "#18. Create a program to calculate the area of a rectangle.\n",
    "\n",
    "length = float(input(\"Enter the lenghth \"))\n",
    "breadth = float(input(\"Enter the breadth \"))\n",
    "unit = input(\"Enter Units\")\n",
    "\n",
    "area = length * breadth\n",
    "print(f\"({area}{unit}^2)\")"
   ]
  },
  {
   "cell_type": "code",
   "execution_count": 22,
   "metadata": {},
   "outputs": [
    {
     "name": "stdout",
     "output_type": "stream",
     "text": [
      "2\n"
     ]
    }
   ],
   "source": [
    "#19. Write a Python program to find the smallest number in a list.\n",
    "\n",
    "list= [11,2,323,10,5,56]\n",
    "\n",
    "smallest = list[0]\n",
    "\n",
    "for i in list:\n",
    "    if smallest > i:\n",
    "        smallest = i\n",
    "\n",
    "print(smallest)"
   ]
  },
  {
   "cell_type": "code",
   "execution_count": 24,
   "metadata": {},
   "outputs": [
    {
     "name": "stdout",
     "output_type": "stream",
     "text": [
      "Character frequencies:\n",
      "g: 2\n",
      "o: 2\n",
      "l: 1\n",
      "e: 1\n"
     ]
    }
   ],
   "source": [
    "#20. Write a program to count the frequency of each character in a string.\n",
    "string = input(\"Enter a string: \")\n",
    "\n",
    "# Initialize an empty dictionary to store character frequencies\n",
    "frequency = {}\n",
    "\n",
    "for char in string:\n",
    "    if char in frequency:\n",
    "        frequency[char] += 1  # Increment the count if character is already in dictionary\n",
    "    else:\n",
    "        frequency[char] = 1  # Initialize the count if character is not in dictionary\n",
    "\n",
    "# Display the frequency of each character\n",
    "print(\"Character frequencies:\")\n",
    "for char, count in frequency.items():\n",
    "    print(f\"{char}: {count}\")\n"
   ]
  },
  {
   "cell_type": "code",
   "execution_count": 27,
   "metadata": {},
   "outputs": [
    {
     "name": "stdout",
     "output_type": "stream",
     "text": [
      "{'x': 1, 'y': 3, 'z': 4}\n"
     ]
    }
   ],
   "source": [
    "#21. Write a Python script to merge two dictionaries.\n",
    "\n",
    "d1 = {'x': 1, 'y': 2}\n",
    "d2 = {'y': 3, 'z': 4}\n",
    "\n",
    "d1.update(d2) # Merges d2 into d1\n",
    "print(d1)"
   ]
  },
  {
   "cell_type": "code",
   "execution_count": 30,
   "metadata": {},
   "outputs": [
    {
     "name": "stdout",
     "output_type": "stream",
     "text": [
      "Prime numbers between 0 and 500:\n",
      "2 3 5 7 11 13 17 19 23 29 31 37 41 43 47 53 59 61 67 71 73 79 83 89 97 101 103 107 109 113 127 131 137 139 149 151 157 163 167 173 179 181 191 193 197 199 211 223 227 229 233 239 241 251 257 263 269 271 277 281 283 293 307 311 313 317 331 337 347 349 353 359 367 373 379 383 389 397 401 409 419 421 431 433 439 443 449 457 461 463 467 479 487 491 499 "
     ]
    }
   ],
   "source": [
    "#22. Write a Python program to print all prime numbers in a given range.\n",
    "\n",
    "def is_prime(num):\n",
    "    if num <= 1:\n",
    "        return False\n",
    "    for i in range(2, int(num**0.5) + 1):  # Check divisors up to the square root of num\n",
    "        if num % i == 0:\n",
    "            return False\n",
    "    return True\n",
    "\n",
    "# Input the range\n",
    "start = int(input(\"Enter the start of the range: \"))\n",
    "end = int(input(\"Enter the end of the range: \"))\n",
    "\n",
    "print(f\"Prime numbers between {start} and {end}:\")\n",
    "for number in range(start, end + 1):\n",
    "    if is_prime(number):\n",
    "        print(number, end=\" \")\n"
   ]
  },
  {
   "cell_type": "code",
   "execution_count": 29,
   "metadata": {},
   "outputs": [
    {
     "name": "stdout",
     "output_type": "stream",
     "text": [
      "2 is a prime number.\n"
     ]
    }
   ],
   "source": [
    "#23. Write a program to check if a number is prime or not.\n",
    "def is_prime(num):\n",
    "    if num <= 1:\n",
    "        return False  # Numbers less than or equal to 1 are not prime\n",
    "    for i in range(2, int(num**0.5) + 1):  # Check divisors up to the square root of the number\n",
    "        if num % i == 0:\n",
    "            return False  # Number is not prime if divisible by any number other than 1 and itself\n",
    "    return True\n",
    "\n",
    "# Input number\n",
    "number = int(input(\"Enter a number: \"))\n",
    "\n",
    "# Check if the number is prime\n",
    "if is_prime(number):\n",
    "    print(f\"{number} is a prime number.\")\n",
    "else:\n",
    "    print(f\"{number} is not a prime number.\")\n"
   ]
  },
  {
   "cell_type": "code",
   "execution_count": 32,
   "metadata": {},
   "outputs": [
    {
     "name": "stdout",
     "output_type": "stream",
     "text": [
      "The gcd of 60 and 48 is : 12\n",
      "The gcd of 60 and 48 is : 12\n"
     ]
    }
   ],
   "source": [
    "#24. Write a Python program to find the GCD of two numbers.\n",
    "# method to compute gcd ( recursion )\n",
    "\n",
    "\n",
    "def hcf(a, b):\n",
    "    if(b == 0):\n",
    "        return a\n",
    "    else:\n",
    "        return hcf(b, a % b)\n",
    "\n",
    "a = 60\n",
    "b = 48\n",
    "\n",
    "# prints 12\n",
    "print(\"The gcd of 60 and 48 is : \", end=\"\")\n",
    "print(hcf(60, 48))\n",
    "\n",
    "#second method \n",
    "import math\n",
    "\n",
    "# prints 12\n",
    "print(\"The gcd of 60 and 48 is : \", end=\"\")\n",
    "print(math.gcd(60, 48))"
   ]
  },
  {
   "cell_type": "code",
   "execution_count": 35,
   "metadata": {},
   "outputs": [
    {
     "name": "stdout",
     "output_type": "stream",
     "text": [
      "The lcm of 60 and 48 is : 240\n",
      "The LCM of 5 and 5 is 5.\n"
     ]
    }
   ],
   "source": [
    "#25. Write a program to find the LCM of two numbers.\n",
    "\n",
    "import math\n",
    "\n",
    "# prints 12\n",
    "print(\"The lcm of 60 and 48 is : \", end=\"\")\n",
    "print(math.lcm(60, 48))\n",
    "\n",
    "\n",
    "#2nd method\n",
    "\n",
    "def find_lcm(x, y):\n",
    "    # Find the greater of the two numbers\n",
    "    greater = max(x, y)\n",
    "\n",
    "    while True:\n",
    "        if greater % x == 0 and greater % y == 0:\n",
    "            lcm = greater\n",
    "            break\n",
    "        greater += 1  # Increment to check the next potential multiple\n",
    "\n",
    "    return lcm\n",
    "\n",
    "# Input two numbers\n",
    "num1 = int(input(\"Enter the first number: \"))\n",
    "num2 = int(input(\"Enter the second number: \"))\n",
    "\n",
    "# Calculate and display the LCM\n",
    "result = find_lcm(num1, num2)\n",
    "print(f\"The LCM of {num1} and {num2} is {result}.\")\n",
    "\n"
   ]
  },
  {
   "cell_type": "code",
   "execution_count": 36,
   "metadata": {},
   "outputs": [
    {
     "name": "stdout",
     "output_type": "stream",
     "text": [
      "Updated string: The quick brown cat jumps over the lazy dog.\n"
     ]
    }
   ],
   "source": [
    "#26. Create a Python script to replace all occurrences of a substring in a string.\n",
    "# Input the main string\n",
    "main_string = input(\"Enter the main string: \")\n",
    "\n",
    "# Input the substring to be replaced\n",
    "old_substring = input(\"Enter the substring to replace: \")\n",
    "\n",
    "# Input the new substring\n",
    "new_substring = input(\"Enter the new substring: \")\n",
    "\n",
    "# Replace all occurrences of the old substring with the new substring\n",
    "updated_string = main_string.replace(old_substring, new_substring)\n",
    "\n",
    "# Display the updated string\n",
    "print(\"Updated string:\", updated_string)\n"
   ]
  },
  {
   "cell_type": "code",
   "execution_count": 37,
   "metadata": {},
   "outputs": [
    {
     "name": "stdout",
     "output_type": "stream",
     "text": [
      "it is a valod email\n"
     ]
    }
   ],
   "source": [
    "#27. Write a Python program to check if a given string is a valid email address.\n",
    "email = input(\"Enter your e mail \")\n",
    "\n",
    "if '@' and \".com\" or \".in\" in email:\n",
    "    print(\"it is a valid email\")\n",
    "\n",
    "else:\n",
    "    print(\"Enter a valid e mail\")"
   ]
  },
  {
   "cell_type": "code",
   "execution_count": 38,
   "metadata": {},
   "outputs": [
    {
     "name": "stdout",
     "output_type": "stream",
     "text": [
      "x = 5 and y= 10\n"
     ]
    }
   ],
   "source": [
    "#28. Write a Python program to swap two numbers without using a temporary variable.\n",
    "\n",
    "x = 10\n",
    "y = 5\n",
    "\n",
    "x,y = y,x\n",
    "\n",
    "print(f\"x = {x} and y= {y}\")"
   ]
  },
  {
   "cell_type": "code",
   "execution_count": 42,
   "metadata": {},
   "outputs": [
    {
     "name": "stdout",
     "output_type": "stream",
     "text": [
      "2\n"
     ]
    }
   ],
   "source": [
    "#29. Write a function to calculate the length of a string.\n",
    "\n",
    "string = input(\"Enter your string \")\n",
    "\n",
    "lengh_str = len(string)\n",
    "\n",
    "print(lengh_str)"
   ]
  },
  {
   "cell_type": "code",
   "execution_count": 45,
   "metadata": {},
   "outputs": [
    {
     "name": "stdout",
     "output_type": "stream",
     "text": [
      "Largest number: 323\n",
      "Smallest number: 2\n"
     ]
    }
   ],
   "source": [
    "# List of numbers\n",
    "numbers = [11, 2, 323, 10, 5, 56]\n",
    "\n",
    "# Initialize largest and smallest with the first element\n",
    "largest = numbers[0]\n",
    "smallest = numbers[0]\n",
    "\n",
    "# Loop through the list to find the largest and smallest\n",
    "for num in numbers:\n",
    "    if num > largest:\n",
    "        largest = num\n",
    "    elif num < smallest:\n",
    "        smallest = num\n",
    "\n",
    "# Output the largest and smallest numbers\n",
    "print(f\"Largest number: {largest}\")\n",
    "print(f\"Smallest number: {smallest}\")"
   ]
  },
  {
   "cell_type": "code",
   "execution_count": null,
   "metadata": {},
   "outputs": [],
   "source": []
  }
 ],
 "metadata": {
  "kernelspec": {
   "display_name": "base",
   "language": "python",
   "name": "python3"
  },
  "language_info": {
   "codemirror_mode": {
    "name": "ipython",
    "version": 3
   },
   "file_extension": ".py",
   "mimetype": "text/x-python",
   "name": "python",
   "nbconvert_exporter": "python",
   "pygments_lexer": "ipython3",
   "version": "3.12.4"
  }
 },
 "nbformat": 4,
 "nbformat_minor": 2
}
