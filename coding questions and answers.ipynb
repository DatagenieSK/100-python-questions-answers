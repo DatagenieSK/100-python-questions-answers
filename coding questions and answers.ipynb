{
 "cells": [
  {
   "cell_type": "code",
   "execution_count": 1,
   "metadata": {},
   "outputs": [
    {
     "name": "stdout",
     "output_type": "stream",
     "text": [
      "Hello, World!\n"
     ]
    }
   ],
   "source": [
    "#Write a program to print \"Hello, World!\".\n",
    "print(\"Hello, World!\")"
   ]
  },
  {
   "cell_type": "code",
   "execution_count": 3,
   "metadata": {},
   "outputs": [
    {
     "name": "stdout",
     "output_type": "stream",
     "text": [
      "5.0\n"
     ]
    }
   ],
   "source": [
    "#Create a function to find the sum of two numbers.\n",
    "\n",
    "def sum(x,y):\n",
    "    result = x + y\n",
    "    return result\n",
    "\n",
    "\n",
    "num1 = float(input(\"enter first Number- \"))\n",
    "num2 = float(input(\"Enter second Number- \"))\n",
    "print(sum(num1,num2))"
   ]
  },
  {
   "cell_type": "code",
   "execution_count": 5,
   "metadata": {},
   "outputs": [
    {
     "name": "stdout",
     "output_type": "stream",
     "text": [
      "Odd\n"
     ]
    }
   ],
   "source": [
    "#Write a Python program to check if a number is even or odd.\n",
    "\n",
    "n = int(input(\"Enetr Number- \"))\n",
    "\n",
    "if n % 2 == 0:\n",
    "    print(\"Even\")\n",
    "else:\n",
    "    print(\"Odd\")"
   ]
  },
  {
   "cell_type": "code",
   "execution_count": 12,
   "metadata": {},
   "outputs": [
    {
     "name": "stdout",
     "output_type": "stream",
     "text": [
      "elgoog \n",
      "elgoog\n"
     ]
    }
   ],
   "source": [
    "#Write a program to reverse a string.\n",
    "string = input(\"Enter a word- \")\n",
    "reverse = \" \"\n",
    "for s in string:\n",
    "    reverse = s + reverse\n",
    "\n",
    "print(reverse)\n",
    "\n",
    "#2nd method \n",
    "reverse = string[::-1]\n",
    "print(reverse)\n"
   ]
  },
  {
   "cell_type": "code",
   "execution_count": 15,
   "metadata": {},
   "outputs": [
    {
     "name": "stdout",
     "output_type": "stream",
     "text": [
      "Enter a positive number\n",
      "None\n"
     ]
    }
   ],
   "source": [
    "#Create a function to calculate the factorial of a number.\n",
    "\n",
    "def factorial(n):\n",
    "    \n",
    "    if n < 0:\n",
    "        return print(\"Enter a positive number\")\n",
    "    elif n == 0 or n == 1:\n",
    "        return 1\n",
    "    else:\n",
    "        return n * factorial(n - 1)\n",
    "    \n",
    "\n",
    "\n",
    "print(factorial(-1))\n"
   ]
  },
  {
   "cell_type": "code",
   "execution_count": 26,
   "metadata": {},
   "outputs": [
    {
     "name": "stdout",
     "output_type": "stream",
     "text": [
      "94\n"
     ]
    }
   ],
   "source": [
    "# Write a Python program to find the largest of three numbers. \n",
    "\n",
    "numlist = [5, 94, 3]\n",
    "\n",
    "largest = numlist[0]  \n",
    "\n",
    "for num in numlist:\n",
    "    if num > largest: \n",
    "        largest = num\n",
    "\n",
    "print(largest)\n",
    "    "
   ]
  },
  {
   "cell_type": "code",
   "execution_count": 28,
   "metadata": {},
   "outputs": [
    {
     "name": "stdout",
     "output_type": "stream",
     "text": [
      "5 x 1 = 5 \n",
      "5 x 2 = 10 \n",
      "5 x 3 = 15 \n",
      "5 x 4 = 20 \n",
      "5 x 5 = 25 \n",
      "5 x 6 = 30 \n",
      "5 x 7 = 35 \n",
      "5 x 8 = 40 \n",
      "5 x 9 = 45 \n",
      "5 x 10 = 50 \n"
     ]
    }
   ],
   "source": [
    "#Write a program to print the multiplication table of a given number\n",
    "\n",
    "num = int(input(\"Enter number \"))\n",
    "\n",
    "for i in range(1,11):\n",
    "    product = num * i\n",
    "    print(f\"{num} x {i} = {product} \")"
   ]
  },
  {
   "cell_type": "code",
   "execution_count": 32,
   "metadata": {},
   "outputs": [
    {
     "name": "stdout",
     "output_type": "stream",
     "text": [
      "25\n"
     ]
    }
   ],
   "source": [
    "# Write a Python script to find the square of a number.\n",
    "\n",
    "num = int(input(\"Enter number \"))\n",
    "\n",
    "sq = print(num**2)\n"
   ]
  },
  {
   "cell_type": "code",
   "execution_count": 33,
   "metadata": {},
   "outputs": [
    {
     "name": "stdout",
     "output_type": "stream",
     "text": [
      "Leap year\n"
     ]
    }
   ],
   "source": [
    "#Write a Python program to check if a year is a leap year.\n",
    "\n",
    "year = int(input(\"Enter year- \"))\n",
    "\n",
    "if (year % 4 == 0 and year % 100 != 0) or (year % 400 == 0):\n",
    "    print(\"Leap year\")\n",
    "else:\n",
    "    print(\"Not a leap year\")"
   ]
  },
  {
   "cell_type": "code",
   "execution_count": 36,
   "metadata": {},
   "outputs": [
    {
     "name": "stdout",
     "output_type": "stream",
     "text": [
      "33.8\n"
     ]
    }
   ],
   "source": [
    "#Write a program to convert temperature from Celsius to Fahrenheit.\n",
    "\n",
    "temp = int(input(\"Enter temp in Celcius- \"))\n",
    "\n",
    "temp_in_fah = (temp * 9/5) + 32 \n",
    "print(temp_in_fah)"
   ]
  },
  {
   "cell_type": "code",
   "execution_count": 42,
   "metadata": {},
   "outputs": [
    {
     "name": "stdout",
     "output_type": "stream",
     "text": [
      "google\n",
      "3\n"
     ]
    }
   ],
   "source": [
    "#Write a Python program to count the number of vowels in a string.\n",
    "\n",
    "word = input(\"Enter Word - \").lower()\n",
    "print(word)\n",
    "count = 0\n",
    "\n",
    "vowels = [\"a\",'e','i','o','u']\n",
    "\n",
    "for i in word:\n",
    "    \n",
    "    if i in vowels:\n",
    "        count +=1\n",
    "    \n",
    "print(count)\n"
   ]
  },
  {
   "cell_type": "code",
   "execution_count": 43,
   "metadata": {},
   "outputs": [
    {
     "name": "stdout",
     "output_type": "stream",
     "text": [
      "False\n"
     ]
    }
   ],
   "source": [
    "#Write a function to check if a string is a palindrome.\n",
    "def is_palindrome(x):\n",
    "    polindrome = False\n",
    "\n",
    "    y = x[::-1]\n",
    "\n",
    "    if x == y:\n",
    "        polindrome = True\n",
    "\n",
    "    return polindrome\n",
    "\n",
    "\n",
    "print(is_palindrome(\"google\"))\n"
   ]
  },
  {
   "cell_type": "code",
   "execution_count": null,
   "metadata": {},
   "outputs": [],
   "source": []
  }
 ],
 "metadata": {
  "kernelspec": {
   "display_name": "base",
   "language": "python",
   "name": "python3"
  },
  "language_info": {
   "codemirror_mode": {
    "name": "ipython",
    "version": 3
   },
   "file_extension": ".py",
   "mimetype": "text/x-python",
   "name": "python",
   "nbconvert_exporter": "python",
   "pygments_lexer": "ipython3",
   "version": "3.12.4"
  }
 },
 "nbformat": 4,
 "nbformat_minor": 2
}
